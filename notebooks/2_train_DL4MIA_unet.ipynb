{
 "cells": [
  {
   "cell_type": "markdown",
   "metadata": {},
   "source": [
    "# STEP 2: Train the UNET model\n"
   ]
  },
  {
   "cell_type": "markdown",
   "metadata": {},
   "source": [
    "## Step 2.1: Instantiate imports\n"
   ]
  },
  {
   "cell_type": "markdown",
   "metadata": {},
   "source": [
    "First change to the unet_segmentation folder"
   ]
  },
  {
   "cell_type": "code",
   "execution_count": 7,
   "metadata": {},
   "outputs": [
    {
     "name": "stdout",
     "output_type": "stream",
     "text": [
      "c:\\Users\\jacob.obrien\\envs\\HT_segmentation\\unet_segmentation\n",
      "c:\\Users\\jacob.obrien\\envs\\HT_segmentation\\unet_segmentation\n"
     ]
    }
   ],
   "source": [
    "%cd .."
   ]
  },
  {
   "cell_type": "code",
   "execution_count": 13,
   "metadata": {},
   "outputs": [
    {
     "name": "stdout",
     "output_type": "stream",
     "text": [
      "The autoreload extension is already loaded. To reload it, use:\n",
      "  %reload_ext autoreload\n"
     ]
    }
   ],
   "source": [
    "%load_ext autoreload\n",
    "%autoreload 2\n",
    "import os\n",
    "from matplotlib import pyplot as plt\n",
    "from src.models.dl4mia_tissue_unet import config, train"
   ]
  },
  {
   "cell_type": "markdown",
   "metadata": {},
   "source": [
    "## Step 2.2: Begin training"
   ]
  },
  {
   "cell_type": "code",
   "execution_count": 14,
   "metadata": {},
   "outputs": [
    {
     "name": "stdout",
     "output_type": "stream",
     "text": [
      "Training dictionary:\n",
      "\tname: 2d\n",
      "\tdata_dir: data\\processed\\uncropped\n",
      "\ttype: train\n",
      "\tsize: 93\n",
      "\ttransform: None\n",
      "\tbatch_size: 8\n",
      "\tworkers: 4\n",
      "Validation dictionary:\n",
      "\tname: 2d\n",
      "\tdata_dir: data\\processed\\uncropped\n",
      "\ttype: val\n",
      "\tsize: 26\n",
      "\ttransform: None\n",
      "\tbatch_size: 8\n",
      "\tworkers: 4\n",
      "Model dictionary:\n",
      "\tname: unet\n",
      "\tnum_classes: 1\n",
      "\tdepth: 3\n",
      "\tin_channels: 1\n",
      "Config dictionary:\n",
      "\ttrain_lr: 0.0005\n",
      "\tn_epochs: 6\n",
      "\tcuda: False\n",
      "\tsave: True\n",
      "\tsave_dir: src\\models\\dl4mia_tissue_unet\\results\n",
      "\tresume_path: None\n",
      "loading datasets...\n",
      "2D `train` Dataset created.\n",
      "2D `val` Dataset created.\n",
      "\n",
      "creating model...\n",
      "Initializing a U-Net with depth = 3, in-channels = 1 and num_classes = 1.\n",
      "Created logger with keys:  ('train', 'val', 'ap')\n",
      "Starting epoch 0\n",
      "learning rate: 0.0005\n"
     ]
    },
    {
     "name": "stderr",
     "output_type": "stream",
     "text": [
      "100%|██████████| 11/11 [00:38<00:00,  3.47s/it]\n",
      "100%|██████████| 3/3 [00:08<00:00,  2.95s/it]"
     ]
    },
    {
     "name": "stdout",
     "output_type": "stream",
     "text": [
      "===> train loss: 0.59\n",
      "===> val loss: 0.41, val ap: 0.00\n"
     ]
    },
    {
     "name": "stderr",
     "output_type": "stream",
     "text": [
      "\n"
     ]
    },
    {
     "name": "stdout",
     "output_type": "stream",
     "text": [
      "=> saving checkpoint\n",
      "Starting epoch 1\n",
      "learning rate: 0.0004977494364660346\n"
     ]
    },
    {
     "name": "stderr",
     "output_type": "stream",
     "text": [
      " 64%|██████▎   | 7/11 [00:40<00:22,  5.74s/it]\n"
     ]
    },
    {
     "ename": "KeyboardInterrupt",
     "evalue": "",
     "output_type": "error",
     "traceback": [
      "\u001b[1;31m---------------------------------------------------------------------------\u001b[0m",
      "\u001b[1;31mKeyboardInterrupt\u001b[0m                         Traceback (most recent call last)",
      "\u001b[1;32mc:\\Users\\jacob.obrien\\envs\\HT_segmentation\\unet_segmentation\\notebooks\\2_train_DL4MIA_unet.ipynb Cell 7\u001b[0m in \u001b[0;36m<cell line: 1>\u001b[1;34m()\u001b[0m\n\u001b[1;32m----> <a href='vscode-notebook-cell:/c%3A/Users/jacob.obrien/envs/HT_segmentation/unet_segmentation/notebooks/2_train_DL4MIA_unet.ipynb#X16sZmlsZQ%3D%3D?line=0'>1</a>\u001b[0m train\u001b[39m.\u001b[39;49mmain()\n",
      "File \u001b[1;32mc:\\users\\jacob.obrien\\envs\\ht_segmentation\\unet_segmentation\\src\\models\\dl4mia_tissue_unet\\train.py:197\u001b[0m, in \u001b[0;36mmain\u001b[1;34m()\u001b[0m\n\u001b[0;32m    195\u001b[0m print_dict(configs)\n\u001b[0;32m    196\u001b[0m model_trainer \u001b[39m=\u001b[39m Trainer(train_dataset_dict, val_dataset_dict, model_dict, configs)\n\u001b[1;32m--> 197\u001b[0m model_trainer\u001b[39m.\u001b[39;49mbegin_training()\n",
      "File \u001b[1;32mc:\\users\\jacob.obrien\\envs\\ht_segmentation\\unet_segmentation\\src\\models\\dl4mia_tissue_unet\\train.py:109\u001b[0m, in \u001b[0;36mTrainer.begin_training\u001b[1;34m(self)\u001b[0m\n\u001b[0;32m    107\u001b[0m \u001b[39mfor\u001b[39;00m epoch \u001b[39min\u001b[39;00m \u001b[39mrange\u001b[39m(start_epoch, start_epoch \u001b[39m+\u001b[39m \u001b[39mself\u001b[39m\u001b[39m.\u001b[39mconfigs[\u001b[39m'\u001b[39m\u001b[39mn_epochs\u001b[39m\u001b[39m'\u001b[39m]):\n\u001b[0;32m    108\u001b[0m     \u001b[39mprint\u001b[39m(\u001b[39m'\u001b[39m\u001b[39mStarting epoch \u001b[39m\u001b[39m{}\u001b[39;00m\u001b[39m'\u001b[39m\u001b[39m.\u001b[39mformat(epoch), flush\u001b[39m=\u001b[39m\u001b[39mTrue\u001b[39;00m)\n\u001b[1;32m--> 109\u001b[0m     train_loss \u001b[39m=\u001b[39m \u001b[39mself\u001b[39;49m\u001b[39m.\u001b[39;49mtrain()\n\u001b[0;32m    110\u001b[0m     val_loss, val_ap \u001b[39m=\u001b[39m \u001b[39mself\u001b[39m\u001b[39m.\u001b[39mval()\n\u001b[0;32m    112\u001b[0m     scheduler\u001b[39m.\u001b[39mstep()\n",
      "File \u001b[1;32mc:\\users\\jacob.obrien\\envs\\ht_segmentation\\unet_segmentation\\src\\models\\dl4mia_tissue_unet\\train.py:148\u001b[0m, in \u001b[0;36mTrainer.train\u001b[1;34m(self)\u001b[0m\n\u001b[0;32m    146\u001b[0m loss \u001b[39m=\u001b[39m loss\u001b[39m.\u001b[39mmean()\n\u001b[0;32m    147\u001b[0m \u001b[39mself\u001b[39m\u001b[39m.\u001b[39moptimizer\u001b[39m.\u001b[39mzero_grad()\n\u001b[1;32m--> 148\u001b[0m loss\u001b[39m.\u001b[39;49mbackward()\n\u001b[0;32m    149\u001b[0m \u001b[39mself\u001b[39m\u001b[39m.\u001b[39moptimizer\u001b[39m.\u001b[39mstep()\n\u001b[0;32m    150\u001b[0m loss_meter\u001b[39m.\u001b[39mupdate(loss\u001b[39m.\u001b[39mitem())\n",
      "File \u001b[1;32mc:\\Users\\jacob.obrien\\Envs\\HT_segmentation\\lib\\site-packages\\torch\\_tensor.py:396\u001b[0m, in \u001b[0;36mTensor.backward\u001b[1;34m(self, gradient, retain_graph, create_graph, inputs)\u001b[0m\n\u001b[0;32m    387\u001b[0m \u001b[39mif\u001b[39;00m has_torch_function_unary(\u001b[39mself\u001b[39m):\n\u001b[0;32m    388\u001b[0m     \u001b[39mreturn\u001b[39;00m handle_torch_function(\n\u001b[0;32m    389\u001b[0m         Tensor\u001b[39m.\u001b[39mbackward,\n\u001b[0;32m    390\u001b[0m         (\u001b[39mself\u001b[39m,),\n\u001b[1;32m   (...)\u001b[0m\n\u001b[0;32m    394\u001b[0m         create_graph\u001b[39m=\u001b[39mcreate_graph,\n\u001b[0;32m    395\u001b[0m         inputs\u001b[39m=\u001b[39minputs)\n\u001b[1;32m--> 396\u001b[0m torch\u001b[39m.\u001b[39;49mautograd\u001b[39m.\u001b[39;49mbackward(\u001b[39mself\u001b[39;49m, gradient, retain_graph, create_graph, inputs\u001b[39m=\u001b[39;49minputs)\n",
      "File \u001b[1;32mc:\\Users\\jacob.obrien\\Envs\\HT_segmentation\\lib\\site-packages\\torch\\autograd\\__init__.py:173\u001b[0m, in \u001b[0;36mbackward\u001b[1;34m(tensors, grad_tensors, retain_graph, create_graph, grad_variables, inputs)\u001b[0m\n\u001b[0;32m    168\u001b[0m     retain_graph \u001b[39m=\u001b[39m create_graph\n\u001b[0;32m    170\u001b[0m \u001b[39m# The reason we repeat same the comment below is that\u001b[39;00m\n\u001b[0;32m    171\u001b[0m \u001b[39m# some Python versions print out the first line of a multi-line function\u001b[39;00m\n\u001b[0;32m    172\u001b[0m \u001b[39m# calls in the traceback and some print out the last line\u001b[39;00m\n\u001b[1;32m--> 173\u001b[0m Variable\u001b[39m.\u001b[39;49m_execution_engine\u001b[39m.\u001b[39;49mrun_backward(  \u001b[39m# Calls into the C++ engine to run the backward pass\u001b[39;49;00m\n\u001b[0;32m    174\u001b[0m     tensors, grad_tensors_, retain_graph, create_graph, inputs,\n\u001b[0;32m    175\u001b[0m     allow_unreachable\u001b[39m=\u001b[39;49m\u001b[39mTrue\u001b[39;49;00m, accumulate_grad\u001b[39m=\u001b[39;49m\u001b[39mTrue\u001b[39;49;00m)\n",
      "\u001b[1;31mKeyboardInterrupt\u001b[0m: "
     ]
    },
    {
     "data": {
      "image/png": "[encoded data removed]",
      "text/plain": [
       "<Figure size 640x480 with 1 Axes>"
      ]
     },
     "metadata": {},
     "output_type": "display_data"
    }
   ],
   "source": [
    "train.main()"
   ]
  },
  {
   "cell_type": "code",
   "execution_count": null,
   "metadata": {},
   "outputs": [],
   "source": []
  }
 ],
 "metadata": {
  "kernelspec": {
   "display_name": "Python 3.9.13 ('HT_segmentation')",
   "language": "python",
   "name": "python3"
  },
  "language_info": {
   "codemirror_mode": {
    "name": "ipython",
    "version": 3
   },
   "file_extension": ".py",
   "mimetype": "text/x-python",
   "name": "python",
   "nbconvert_exporter": "python",
   "pygments_lexer": "ipython3",
   "version": "3.9.13"
  },
  "orig_nbformat": 4,
  "vscode": {
   "interpreter": {
    "hash": "097252c3f2fdbc8ab0100e67bc11b1b76e4d74fb9f5f0584a1a2ec7d6aaeed94"
   }
  }
 },
 "nbformat": 4,
 "nbformat_minor": 2
}
