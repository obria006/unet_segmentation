{
  "cells": [
    {
      "attachments": {},
      "cell_type": "markdown",
      "metadata": {
        "id": "V5o9LRcaV8ei"
      },
      "source": [
        "# Train U-Net Segmentation\n",
        "This can be run in google Colab to demo training. Adapted from DL4MIA 2022 Unet.\n",
        "https://github.com/dl4mia.\n",
        "\n",
        "**HOWEVER I HAVE NOT TESTED THIS FOR OCT SEGMENTATION IN COLAB**"
      ]
    },
    {
      "cell_type": "markdown",
      "metadata": {
        "id": "Nvu7pnNsZ-kU"
      },
      "source": [
        "## Initialize Colab environment\n",
        "Clone the repo, install the packages, download the data, and ensure torch available."
      ]
    },
    {
      "cell_type": "code",
      "execution_count": null,
      "metadata": {
        "colab": {
          "base_uri": "https://localhost:8080/"
        },
        "id": "HIEn-ga0Wdpj",
        "outputId": "c43b676d-d31f-4779-ecec-0cdc652f853d"
      },
      "outputs": [],
      "source": [
        "# clone my notebook\n",
        "!git clone https://github.com/obria006/unet_segmentation.git"
      ]
    },
    {
      "cell_type": "code",
      "execution_count": null,
      "metadata": {
        "colab": {
          "base_uri": "https://localhost:8080/"
        },
        "id": "Dlhm68TnWnbh",
        "outputId": "fe7babbb-c25a-4958-b593-4262d2b48307"
      },
      "outputs": [],
      "source": [
        "# change to the cloned unet repo\n",
        "%cd unet_segmentation\n",
        "!pip install torch torchvision\n",
        "!pip install -e."
      ]
    },
    {
      "cell_type": "code",
      "execution_count": null,
      "metadata": {
        "id": "BG2DJrB5aiaE"
      },
      "outputs": [],
      "source": [
        "# download data\n",
        "import os\n",
        "import urllib.request\n",
        "import zipfile\n",
        "import shutil\n",
        "def extract_data(zip_src, dst):\n",
        "    \"\"\"\n",
        "        Extracts data in zip file at 'zip_src' to the 'dst' directory.\n",
        "        ----------\n",
        "        zip_src: string\n",
        "            path to zip file\n",
        "        dst: string\n",
        "            Indicates the path to the directory where the data should be saved.\n",
        "\n",
        "    \"\"\"\n",
        "    zip_name = os.path.basename(zip_src)\n",
        "    zip_name_no_ext = zip_name.strip(\".zip\")\n",
        "    zip_path = os.path.join(dst, zip_name)\n",
        "\n",
        "    if (os.path.exists(os.path.join(dst, zip_name_no_ext))):\n",
        "        print(f\"Destination directory already exists at: {os.path.abspath(os.path.join(dst, zip_name_no_ext))}\")\n",
        "    else:\n",
        "        os.makedirs(os.path.join(dst, zip_name_no_ext))\n",
        "        with zipfile.ZipFile(zip_src, 'r') as zip_ref:\n",
        "            zip_ref.extractall(dst)\n",
        "\n",
        "extract_data(\n",
        "    zip_src = f\"{os.getcwd()}/data/export/OCT_scans_128x128.zip\",\n",
        "    dst = f\"{os.getcwd()}/data/processed\"\n",
        ")"
      ]
    },
    {
      "attachments": {},
      "cell_type": "markdown",
      "metadata": {},
      "source": [
        "## Display network training hardware\n",
        "This will display whether the training device is GPU (cuda) or CPU. GPU will train the network substantially faster than CPU."
      ]
    },
    {
      "cell_type": "code",
      "execution_count": null,
      "metadata": {},
      "outputs": [],
      "source": [
        "# setting device on GPU if available, else CPU\n",
        "import torch\n",
        "device = torch.device('cuda' if torch.cuda.is_available() else 'cpu')\n",
        "print('Using device:', device)\n",
        "print()\n",
        "\n",
        "#Additional Info when using cuda\n",
        "if device.type == 'cuda':\n",
        "    print(torch.cuda.get_device_name(0))\n",
        "    print('Memory Usage:')\n",
        "    print('Allocated:', round(torch.cuda.memory_allocated(0)/1024**3,1), 'GB')\n",
        "    print('Cached:   ', round(torch.cuda.memory_reserved(0)/1024**3,1), 'GB')"
      ]
    },
    {
      "attachments": {},
      "cell_type": "markdown",
      "metadata": {
        "id": "9vk69-A1jXRD"
      },
      "source": [
        "## Start training\n",
        "\n",
        "At a minimum, you must specify the:\n",
        "1. Data directory (`data_dir`) which is the directory where the \"train\", \"test\", and \"val\" folders are located that contain processed images/masks.\n",
        "2. Output/results directory (`output_dir`) which is the directory where the training results will be saved. Within this directory, folders for each training session will be created.\n",
        "\n",
        "Addtionally, you can view the `main()` function parameters in the \"train.py\" file to see other keyword arguments that can be specified. For instance, you can change the number of training epochs, number of layers in the U-Net, and the size to which input images will be resized prior to training."
      ]
    },
    {
      "cell_type": "code",
      "execution_count": null,
      "metadata": {
        "colab": {
          "base_uri": "https://localhost:8080/",
          "height": 1000
        },
        "id": "E_020JnfjdCD",
        "outputId": "05f42229-05aa-4fc5-914a-88e926b68187"
      },
      "outputs": [],
      "source": [
        "from src.models.dl4mia_tissue_unet import train\n",
        "data_dir = \"../data/processed/OCT_scans_128x128\"\n",
        "output_dir = \"../src/models/dl4mia_tissue_unet/results\"\n",
        "n_epochs = 30\n",
        "train.main(data_dir=data_dir, output_dir = output_dir, n_epochs=n_epochs)"
      ]
    },
    {
      "cell_type": "markdown",
      "metadata": {
        "id": "RHKsvvAdQNJE"
      },
      "source": [
        "## Predictions"
      ]
    },
    {
      "cell_type": "code",
      "execution_count": null,
      "metadata": {
        "colab": {
          "base_uri": "https://localhost:8080/",
          "height": 1000
        },
        "id": "HGUIxZrKj8R0",
        "outputId": "6804d53c-6862-4c94-a89c-89c98ab878f4"
      },
      "outputs": [],
      "source": [
        "%load_ext autoreload\n",
        "%autoreload 2\n",
        "from src.models.dl4mia_tissue_unet import predict\n",
        "import glob\n",
        "res_dirs = glob.glob(f\"{output_dir}/*\")\n",
        "if res_dirs != []:\n",
        "  result_dir = res_dirs[-1]\n",
        "  ckpt_name = \"best.pth\"\n",
        "  deploy_dir = \"../data/OCT_scans/raw/images\"\n",
        "  predict.main(src_dir=result_dir, ckpt_name=ckpt_name, deploy_dir=None)"
      ]
    },
    {
      "cell_type": "markdown",
      "metadata": {
        "id": "Rr5PnAPbFoHK"
      },
      "source": [
        "## Download results\n"
      ]
    },
    {
      "cell_type": "code",
      "execution_count": null,
      "metadata": {
        "colab": {
          "base_uri": "https://localhost:8080/",
          "height": 208
        },
        "id": "swcTenbYAE22",
        "outputId": "532ceeb7-270b-4b87-9c7b-c4bdc1fb16c4"
      },
      "outputs": [],
      "source": [
        "!zip -r /content/results.zip /content/unet_segmentation/results\n",
        "from google.colab import files\n",
        "files.download(\"/content/results.zip\")"
      ]
    }
  ],
  "metadata": {
    "accelerator": "GPU",
    "colab": {
      "collapsed_sections": [],
      "name": "Train_Tissue_Unet.ipynb",
      "provenance": []
    },
    "gpuClass": "standard",
    "kernelspec": {
      "display_name": "Python 3.9.13 ('HT_segmentation')",
      "language": "python",
      "name": "python3"
    },
    "language_info": {
      "codemirror_mode": {
        "name": "ipython",
        "version": 3
      },
      "file_extension": ".py",
      "mimetype": "text/x-python",
      "name": "python",
      "nbconvert_exporter": "python",
      "pygments_lexer": "ipython3",
      "version": "3.9.13"
    },
    "vscode": {
      "interpreter": {
        "hash": "097252c3f2fdbc8ab0100e67bc11b1b76e4d74fb9f5f0584a1a2ec7d6aaeed94"
      }
    }
  },
  "nbformat": 4,
  "nbformat_minor": 0
}
