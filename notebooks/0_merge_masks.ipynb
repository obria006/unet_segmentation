{
 "cells": [
  {
   "attachments": {},
   "cell_type": "markdown",
   "metadata": {},
   "source": [
    "# Merge \"skin\" and \"skull\" masks into single mask\n",
    "\n",
    "Zahra's new data from April 19 2023 consists of two sets of mask images: \"skin_masks\" and \"skull_masks\". The masks in these folders are binary labeled for \"skin\" and \"skull\" respectively. \n",
    "\n",
    "Hence, I'm going to merge these images into a single categorical mask with the following labeling scheme:\n",
    "\n",
    "| Semantic label | Numeric label |\n",
    "| -------------- | ------------- |\n",
    "| \"background\"   |       0       |\n",
    "| \"skull\"        |       1       |\n",
    "| \"skin\"         |       2       |"
   ]
  },
  {
   "attachments": {},
   "cell_type": "markdown",
   "metadata": {},
   "source": [
    "## Merging process\n",
    "\n",
    "Define function to return all images in a directory (and subdirectories)"
   ]
  },
  {
   "cell_type": "code",
   "execution_count": 1,
   "metadata": {},
   "outputs": [],
   "source": [
    "import os\n",
    "\n",
    "image_types = (\".jpg\", \".jpeg\", \".png\", \".bmp\", \".tif\", \".tiff\")\n",
    "\n",
    "\n",
    "def list_images(basePath, contains=None):\n",
    "    # return the set of files that are valid\n",
    "    return list_files(basePath, validExts=image_types, contains=contains)\n",
    "\n",
    "\n",
    "def list_files(basePath, validExts=None, contains=None):\n",
    "    # loop over the directory structure\n",
    "    for (rootDir, dirNames, filenames) in os.walk(basePath):\n",
    "        # loop over the filenames in the current directory\n",
    "        for filename in filenames:\n",
    "            # if the contains string is not none and the filename does not contain\n",
    "            # the supplied string, then ignore the file\n",
    "            if contains is not None and filename.find(contains) == -1:\n",
    "                continue\n",
    "\n",
    "            # determine the file extension of the current file\n",
    "            ext = filename[filename.rfind(\".\"):].lower()\n",
    "\n",
    "            # check to see if the file is an image and should be processed\n",
    "            if validExts is None or ext.endswith(validExts):\n",
    "                # construct the path to the image and yield it\n",
    "                imagePath = os.path.join(rootDir, filename)\n",
    "                yield imagePath"
   ]
  },
  {
   "attachments": {},
   "cell_type": "markdown",
   "metadata": {},
   "source": [
    "Define function to merge skin and skull masks into single mask"
   ]
  },
  {
   "cell_type": "code",
   "execution_count": 2,
   "metadata": {},
   "outputs": [],
   "source": [
    "import numpy as np\n",
    "\n",
    "def merge_boolean_masks(mask1:np.ndarray, mask2:np.ndarray, label1:int=1, label2:int=2):\n",
    "    \"\"\"\n",
    "    Merge two boolean labeled numpy array image masks into a single array image\n",
    "    mask that is categorically labeled from the input arrays.\n",
    "\n",
    "    Args:\n",
    "        mask1 (numpy.ndarray): First boolean labeled image mask.\n",
    "        mask2 (numpy.ndarray): Second boolean labeled image mask.\n",
    "        label1 (int, optional): Label value for pixels in the merged mask\n",
    "            corresponding to True values in `mask1`. Defaults to 1.\n",
    "        label2 (int, optional): Label value for pixels in the merged mask\n",
    "            corresponding to True values in `mask2`. Defaults to 2.\n",
    "\n",
    "    Returns:\n",
    "        numpy.ndarray: Merged categorically labeled image mask.\n",
    "\n",
    "    Raises:\n",
    "        ValueError: If `mask1` and `mask2` do not have the same shape\n",
    "            or if they are both not boolean\n",
    "    \"\"\"\n",
    "    # check if masks are the same size\n",
    "    if mask1.shape != mask2.shape:\n",
    "        raise ValueError(\"Input masks must have the same shape.\")\n",
    "    # check if masks are boolean labeled\n",
    "    if mask1.dtype != bool or mask2.dtype != bool:\n",
    "        raise ValueError(\"Input masks must be boolean labeled.\")\n",
    "\n",
    "    # create a new array for the merged mask\n",
    "    merged_mask = np.zeros_like(mask1).astype(int)\n",
    "\n",
    "    # set the pixel values in the merged mask based on the input masks\n",
    "    if mask1.any():\n",
    "        merged_mask[mask1 == True] = label1\n",
    "    if mask2.any():\n",
    "        merged_mask[mask2 == True] = label2\n",
    "\n",
    "    return merged_mask"
   ]
  },
  {
   "attachments": {},
   "cell_type": "markdown",
   "metadata": {},
   "source": [
    "Get filenames of all skin and skull masks from their respective directories"
   ]
  },
  {
   "cell_type": "code",
   "execution_count": 3,
   "metadata": {},
   "outputs": [],
   "source": [
    "# Directories containing skin an skull masks\n",
    "data_dir = \"../data/raw/OCT_scans_new_20230419\"\n",
    "skull_dir = f\"{data_dir}/skull_mask\"\n",
    "skin_dir = f\"{data_dir}/skin_mask\"\n",
    "\n",
    "# Get all filenames for skin and skull masks\n",
    "skull_fnames = list(list_images(skull_dir))\n",
    "skin_fnames = list(list_images(skin_dir))\n",
    "skin_basenames = [os.path.basename(fname) for fname in skin_fnames]\n"
   ]
  },
  {
   "attachments": {},
   "cell_type": "markdown",
   "metadata": {},
   "source": [
    "Merge all images that are common"
   ]
  },
  {
   "cell_type": "code",
   "execution_count": 4,
   "metadata": {},
   "outputs": [],
   "source": [
    "from PIL import Image\n",
    "import tifffile\n",
    "\n",
    "# Define output directory for merged images\n",
    "merged_dir = f\"{data_dir}/merged_masks\"\n",
    "if not os.path.isdir(merged_dir):\n",
    "    print(f\"Creating merged directory: {merged_dir}\")\n",
    "    os.makedirs(merged_dir)\n",
    "\n",
    "# Iterate through all the skull/skin images and merge them\n",
    "for ind, skull_fname in enumerate(skull_fnames):\n",
    "    # Find match between skin and skull mask\n",
    "    skull_basename = os.path.basename(skull_fname)\n",
    "    if skull_basename not in skin_basenames:\n",
    "        print(f\"No skull-skin images match for {skull_basename}\")\n",
    "        skull = np.array(Image.open(skull_fname))\n",
    "        skin = np.zeros_like(skull).astype(bool)\n",
    "    else:\n",
    "        skull = np.array(Image.open(skull_fname))\n",
    "        skin_fname = skin_fnames[skin_basenames.index(skull_basename)]\n",
    "        skin = np.array(Image.open(skin_fname))\n",
    "\n",
    "    # Merge images and save (using uint8 to make smaller images)\n",
    "    merged = merge_boolean_masks(skull, skin).astype(np.uint8)\n",
    "    merged_fname = os.path.join(merged_dir, skull_basename)\n",
    "    assert \"tif\" in merged_fname\n",
    "    tifffile.imwrite(merged_fname, merged, compression=\"packbits\")"
   ]
  }
 ],
 "metadata": {
  "kernelspec": {
   "display_name": "OCT_segmentation",
   "language": "python",
   "name": "python3"
  },
  "language_info": {
   "codemirror_mode": {
    "name": "ipython",
    "version": 3
   },
   "file_extension": ".py",
   "mimetype": "text/x-python",
   "name": "python",
   "nbconvert_exporter": "python",
   "pygments_lexer": "ipython3",
   "version": "3.9.13"
  },
  "orig_nbformat": 4
 },
 "nbformat": 4,
 "nbformat_minor": 2
}
