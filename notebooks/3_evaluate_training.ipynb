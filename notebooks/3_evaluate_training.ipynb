{
 "cells": [
  {
   "attachments": {},
   "cell_type": "markdown",
   "metadata": {},
   "source": [
    "# Evaluate trained U-Net\n",
    "After training, this notebook can be used to evaluate the training efficacy. It generates a plot of segmentation metrics, and predicts on images in the dataset."
   ]
  },
  {
   "attachments": {},
   "cell_type": "markdown",
   "metadata": {},
   "source": [
    "## Evaluate segmentation metrics"
   ]
  },
  {
   "cell_type": "code",
   "execution_count": 3,
   "metadata": {},
   "outputs": [
    {
     "name": "stdout",
     "output_type": "stream",
     "text": [
      "The autoreload extension is already loaded. To reload it, use:\n",
      "  %reload_ext autoreload\n",
      "COULD NOT LOAD PLOTSTYLE\n",
      "Created evaluation directory at: ../src/models/dl4mia_tissue_unet/results\\20230403_102456/evaluation\n",
      "Loaded checkpoint: ../src/models/dl4mia_tissue_unet/results\\20230403_102456/best.pth\n",
      "\tepoch = 23\n",
      "\tval_loss = 0.03438251093029976\n",
      "\tval_ap = 0.8485607218174569\n",
      "\tbest_ap = 0.8485607218174569\n",
      "\ttrain_cuda = True\n",
      "\tmodel_dict = {'name': 'unet', 'kwargs': {'num_classes': 1, 'depth': 3, 'in_channels': 1}}\n",
      "Initializing a U-Net with depth = 3, in-channels = 1 and num_classes = 1.\n"
     ]
    },
    {
     "name": "stderr",
     "output_type": "stream",
     "text": [
      "100%|██████████| 23/23 [00:02<00:00, 10.25it/s]\n"
     ]
    },
    {
     "data": {
      "image/png": "[encoded data removed]",
      "text/plain": [
       "<Figure size 640x480 with 1 Axes>"
      ]
     },
     "metadata": {},
     "output_type": "display_data"
    },
    {
     "name": "stdout",
     "output_type": "stream",
     "text": [
      "Comparing GT to prediction for up to 100 images in train.\n"
     ]
    },
    {
     "name": "stderr",
     "output_type": "stream",
     "text": [
      "100%|██████████| 54/54 [00:00<00:00, 61.98it/s]\n"
     ]
    },
    {
     "name": "stdout",
     "output_type": "stream",
     "text": [
      "Comparing GT to prediction for up to 100 images in val.\n"
     ]
    },
    {
     "name": "stderr",
     "output_type": "stream",
     "text": [
      "100%|██████████| 15/15 [00:00<00:00, 121.92it/s]\n"
     ]
    },
    {
     "name": "stdout",
     "output_type": "stream",
     "text": [
      "Comparing GT to prediction for up to 100 images in test.\n"
     ]
    },
    {
     "name": "stderr",
     "output_type": "stream",
     "text": [
      "100%|██████████| 8/8 [00:00<00:00, 123.05it/s]\n"
     ]
    }
   ],
   "source": [
    "%load_ext autoreload\n",
    "%autoreload 2\n",
    "from src.models.dl4mia_tissue_unet import evaluate\n",
    "import glob\n",
    "\n",
    "# Find the training session folders in the output directory\n",
    "output_dir = \"../src/models/dl4mia_tissue_unet/results\"\n",
    "res_dirs = glob.glob(f\"{output_dir}/*\")\n",
    "\n",
    "# Load the \"best\" checkpoint from the most recent training session and predict\n",
    "if res_dirs != []:\n",
    "  result_dir = res_dirs[-1]\n",
    "  data_dir = (\n",
    "        \"C:/VirEnvs/OCT_segmentation/unet_segmentation/data/processed/OCT_scans_128x128\"\n",
    "    )\n",
    "  compare = True\n",
    "  evaluate.main(src_dir=result_dir, data_dir = data_dir, compare=compare)"
   ]
  }
 ],
 "metadata": {
  "kernelspec": {
   "display_name": "OCT_segmentation",
   "language": "python",
   "name": "python3"
  },
  "language_info": {
   "codemirror_mode": {
    "name": "ipython",
    "version": 3
   },
   "file_extension": ".py",
   "mimetype": "text/x-python",
   "name": "python",
   "nbconvert_exporter": "python",
   "pygments_lexer": "ipython3",
   "version": "3.9.13"
  },
  "orig_nbformat": 4
 },
 "nbformat": 4,
 "nbformat_minor": 2
}
