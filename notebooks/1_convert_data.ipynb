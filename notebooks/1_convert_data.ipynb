{
 "cells": [
  {
   "cell_type": "code",
   "execution_count": null,
   "metadata": {},
   "outputs": [],
   "source": []
  },
  {
   "cell_type": "markdown",
   "metadata": {},
   "source": [
    "# STEP 1: Convert raw data to modeling data\n",
    "\n",
    "The raw data is a .czi file as returned by the zeiss zen software. We need to convert the raw data to data that is more appropriate for segmentation modeling purposes (like a small .tif or .jpg file).\n",
    "\n",
    "Data conversion process includes:\n",
    "\n",
    "0. (Before conversion) Place raw data in data/raw\n",
    "\n",
    "1. Convert raw czi data to (.tif) images in data/interim/converted/images\n",
    "\n",
    "2. Label converted images with MATLAB segmentation tool.\n",
    "\n",
    "3. Crop 2048x2048 images to 4 1024x1024 images and downsize to 256x256\n",
    "\n",
    "4. Save these downsized images in data/interim/cropped\n",
    "    \n",
    "5. Split data from data/interim/cropped into   "
   ]
  },
  {
   "cell_type": "markdown",
   "metadata": {},
   "source": [
    "## Step 1.1: Convert raw czi data to .tif images"
   ]
  },
  {
   "cell_type": "code",
   "execution_count": 25,
   "metadata": {},
   "outputs": [
    {
     "name": "stdout",
     "output_type": "stream",
     "text": [
      "The autoreload extension is already loaded. To reload it, use:\n",
      "  %reload_ext autoreload\n"
     ]
    }
   ],
   "source": [
    "%load_ext autoreload\n",
    "%autoreload 2\n",
    "import os\n",
    "from src.data.convert_czi import czi_convert_directories"
   ]
  },
  {
   "cell_type": "markdown",
   "metadata": {},
   "source": [
    "Set the path to the input and output data directories and the desired converted image extension."
   ]
  },
  {
   "cell_type": "code",
   "execution_count": 26,
   "metadata": {},
   "outputs": [],
   "source": [
    "input_dir = \"../data/raw\"\n",
    "output_dir = \"../data/interim/converted/images\"\n",
    "ext = '.tif'"
   ]
  },
  {
   "cell_type": "markdown",
   "metadata": {},
   "source": [
    "Run the conversion script to convert all czi files in sub-directories of the input_dir. Save the files in a mirrored directory structure located in the output_dir."
   ]
  },
  {
   "cell_type": "code",
   "execution_count": 27,
   "metadata": {},
   "outputs": [
    {
     "name": "stderr",
     "output_type": "stream",
     "text": [
      "INFO: Converting image: ../data/raw\\20220504/E14.czi\n",
      "INFO: Overwrite disabled, so not saving ../data/interim/converted/images\\20220504/E14/E14_000000.tif beacause it already exists\n",
      "INFO: Converting image: ../data/raw\\20220504/E14a.czi\n",
      "INFO: Overwrite disabled, so not saving ../data/interim/converted/images\\20220504/E14a/E14a_000000.tif beacause it already exists\n",
      "INFO: Converting image: ../data/raw\\20220504/E14e.czi\n",
      "INFO: Overwrite disabled, so not saving ../data/interim/converted/images\\20220504/E14e/E14e_000000.tif beacause it already exists\n",
      "INFO: Converting image: ../data/raw\\20220504/E14f.czi\n",
      "INFO: Overwrite disabled, so not saving ../data/interim/converted/images\\20220504/E14f/E14f_000000.tif beacause it already exists\n",
      "INFO: Converting image: ../data/raw\\20220504/E14h.czi\n",
      "INFO: Overwrite disabled, so not saving ../data/interim/converted/images\\20220504/E14h/E14h_000000.tif beacause it already exists\n",
      "INFO: Converting image: ../data/raw\\20220504/E4 b.czi\n",
      "INFO: Overwrite disabled, so not saving ../data/interim/converted/images\\20220504/E4 b/E4 b_000000.tif beacause it already exists\n",
      "INFO: Converting image: ../data/raw\\20220504/E4c.czi\n",
      "INFO: Overwrite disabled, so not saving ../data/interim/converted/images\\20220504/E4c/E4c_000000.tif beacause it already exists\n",
      "INFO: Converting image: ../data/raw\\20220504/E4d.czi\n",
      "INFO: Overwrite disabled, so not saving ../data/interim/converted/images\\20220504/E4d/E4d_000000.tif beacause it already exists\n",
      "INFO: Converting image: ../data/raw\\20220504/E4g.czi\n",
      "INFO: Overwrite disabled, so not saving ../data/interim/converted/images\\20220504/E4g/E4g_000000.tif beacause it already exists\n",
      "INFO: Converting image: ../data/raw\\20220504/E4i.czi\n",
      "INFO: Overwrite disabled, so not saving ../data/interim/converted/images\\20220504/E4i/E4i_000000.tif beacause it already exists\n",
      "INFO: Converting image: ../data/raw\\20220504/E4l.czi\n",
      "INFO: Overwrite disabled, so not saving ../data/interim/converted/images\\20220504/E4l/E4l_000000.tif beacause it already exists\n",
      "INFO: Converting image: ../data/raw\\20220505/e14 a.czi\n",
      "INFO: Overwrite disabled, so not saving ../data/interim/converted/images\\20220505/e14 a/e14 a_000000.tif beacause it already exists\n",
      "INFO: Converting image: ../data/raw\\20220505/e14 b.czi\n",
      "INFO: Overwrite disabled, so not saving ../data/interim/converted/images\\20220505/e14 b/e14 b_000000.tif beacause it already exists\n",
      "INFO: Converting image: ../data/raw\\20220505/e14 c.czi\n",
      "INFO: Overwrite disabled, so not saving ../data/interim/converted/images\\20220505/e14 c/e14 c_000000.tif beacause it already exists\n",
      "INFO: Converting image: ../data/raw\\20220505/e14 d.czi\n",
      "INFO: Overwrite disabled, so not saving ../data/interim/converted/images\\20220505/e14 d/e14 d_000000.tif beacause it already exists\n",
      "INFO: Converting image: ../data/raw\\20220505/e14 e.czi\n",
      "INFO: Overwrite disabled, so not saving ../data/interim/converted/images\\20220505/e14 e/e14 e_000000.tif beacause it already exists\n",
      "INFO: Converting image: ../data/raw\\20220505/e14 f.czi\n",
      "INFO: Overwrite disabled, so not saving ../data/interim/converted/images\\20220505/e14 f/e14 f_000000.tif beacause it already exists\n",
      "INFO: Converting image: ../data/raw\\20220505/e14 g.czi\n",
      "INFO: Overwrite disabled, so not saving ../data/interim/converted/images\\20220505/e14 g/e14 g_000000.tif beacause it already exists\n",
      "INFO: Converting image: ../data/raw\\20220505/e15 20x p.czi\n",
      "INFO: Overwrite disabled, so not saving ../data/interim/converted/images\\20220505/e15 20x p/e15 20x p_000000.tif beacause it already exists\n",
      "INFO: Converting image: ../data/raw\\20220505/e15 b.czi\n",
      "INFO: Overwrite disabled, so not saving ../data/interim/converted/images\\20220505/e15 b/e15 b_000000.tif beacause it already exists\n",
      "INFO: Converting image: ../data/raw\\20220505/e15 c.czi\n",
      "INFO: Overwrite disabled, so not saving ../data/interim/converted/images\\20220505/e15 c/e15 c_000000.tif beacause it already exists\n",
      "INFO: Converting image: ../data/raw\\20220505/e15 d.czi\n",
      "INFO: Overwrite disabled, so not saving ../data/interim/converted/images\\20220505/e15 d/e15 d_000000.tif beacause it already exists\n",
      "INFO: Converting image: ../data/raw\\20220505/e15 e.czi\n",
      "INFO: Overwrite disabled, so not saving ../data/interim/converted/images\\20220505/e15 e/e15 e_000000.tif beacause it already exists\n",
      "INFO: Converting image: ../data/raw\\20220505/e15 f.czi\n",
      "INFO: Overwrite disabled, so not saving ../data/interim/converted/images\\20220505/e15 f/e15 f_000000.tif beacause it already exists\n",
      "INFO: Converting image: ../data/raw\\20220505/e15 g.czi\n",
      "INFO: Overwrite disabled, so not saving ../data/interim/converted/images\\20220505/e15 g/e15 g_000000.tif beacause it already exists\n",
      "INFO: Converting image: ../data/raw\\20220505/e15 h.czi\n",
      "INFO: Overwrite disabled, so not saving ../data/interim/converted/images\\20220505/e15 h/e15 h_000000.tif beacause it already exists\n",
      "INFO: Converting image: ../data/raw\\20220505/e15 i.czi\n",
      "INFO: Overwrite disabled, so not saving ../data/interim/converted/images\\20220505/e15 i/e15 i_000000.tif beacause it already exists\n",
      "INFO: Converting image: ../data/raw\\20220505/e15 l.czi\n",
      "INFO: Overwrite disabled, so not saving ../data/interim/converted/images\\20220505/e15 l/e15 l_000000.tif beacause it already exists\n",
      "INFO: Converting image: ../data/raw\\20220505/e15 m.czi\n",
      "INFO: Overwrite disabled, so not saving ../data/interim/converted/images\\20220505/e15 m/e15 m_000000.tif beacause it already exists\n",
      "INFO: Converting image: ../data/raw\\20220505/e15 n.czi\n",
      "INFO: Overwrite disabled, so not saving ../data/interim/converted/images\\20220505/e15 n/e15 n_000000.tif beacause it already exists\n",
      "INFO: Converting image: ../data/raw\\20220505/e15 o 40x.czi\n",
      "INFO: Overwrite disabled, so not saving ../data/interim/converted/images\\20220505/e15 o 40x/e15 o 40x_000000.tif beacause it already exists\n",
      "INFO: Converting image: ../data/raw\\20220505/e15 q.czi\n",
      "INFO: Overwrite disabled, so not saving ../data/interim/converted/images\\20220505/e15 q/e15 q_000000.tif beacause it already exists\n",
      "INFO: Converting image: ../data/raw\\20220505/e15 r.czi\n",
      "INFO: Overwrite disabled, so not saving ../data/interim/converted/images\\20220505/e15 r/e15 r_000000.tif beacause it already exists\n",
      "INFO: Converting image: ../data/raw\\20220505/Experiment-17.czi\n",
      "INFO: Overwrite disabled, so not saving ../data/interim/converted/images\\20220505/Experiment-17/Experiment-17_000000.tif beacause it already exists\n",
      "INFO: Converting image: ../data/raw\\20220509/E17.5  a.czi\n",
      "INFO: Overwrite disabled, so not saving ../data/interim/converted/images\\20220509/E17.5  a/E17.5  a_000000.tif beacause it already exists\n",
      "INFO: Converting image: ../data/raw\\20220509/E17.5 b.czi\n",
      "INFO: Overwrite disabled, so not saving ../data/interim/converted/images\\20220509/E17.5 b/E17.5 b_000000.tif beacause it already exists\n",
      "INFO: Converting image: ../data/raw\\20220509/E17.5 c.czi\n",
      "INFO: Overwrite disabled, so not saving ../data/interim/converted/images\\20220509/E17.5 c/E17.5 c_000000.tif beacause it already exists\n",
      "INFO: Converting image: ../data/raw\\20220509/E17.5 d.czi\n",
      "INFO: Overwrite disabled, so not saving ../data/interim/converted/images\\20220509/E17.5 d/E17.5 d_000000.tif beacause it already exists\n",
      "INFO: Converting image: ../data/raw\\20220509/E17.5 e.czi\n",
      "INFO: Overwrite disabled, so not saving ../data/interim/converted/images\\20220509/E17.5 e/E17.5 e_000000.tif beacause it already exists\n",
      "INFO: Converting image: ../data/raw\\20220509/E17.5 f.czi\n",
      "INFO: Overwrite disabled, so not saving ../data/interim/converted/images\\20220509/E17.5 f/E17.5 f_000000.tif beacause it already exists\n",
      "INFO: Converting image: ../data/raw\\20220509/E17.5 g.czi\n",
      "INFO: Overwrite disabled, so not saving ../data/interim/converted/images\\20220509/E17.5 g/E17.5 g_000000.tif beacause it already exists\n",
      "INFO: Converting image: ../data/raw\\20220509/E17.5 h.czi\n",
      "INFO: Overwrite disabled, so not saving ../data/interim/converted/images\\20220509/E17.5 h/E17.5 h_000000.tif beacause it already exists\n",
      "INFO: Converting image: ../data/raw\\20220509/E17.5 i.czi\n",
      "INFO: Overwrite disabled, so not saving ../data/interim/converted/images\\20220509/E17.5 i/E17.5 i_000000.tif beacause it already exists\n",
      "INFO: Converting image: ../data/raw\\20220509/E17.5 l.czi\n",
      "INFO: Overwrite disabled, so not saving ../data/interim/converted/images\\20220509/E17.5 l/E17.5 l_000000.tif beacause it already exists\n",
      "INFO: Converting image: ../data/raw\\20220509/E17.5 m.czi\n",
      "INFO: Overwrite disabled, so not saving ../data/interim/converted/images\\20220509/E17.5 m/E17.5 m_000000.tif beacause it already exists\n"
     ]
    }
   ],
   "source": [
    "czi_convert_directories(input_dir=input_dir, output_dir=output_dir, overwrite=False, ext=\".tif\")"
   ]
  },
  {
   "cell_type": "code",
   "execution_count": null,
   "metadata": {},
   "outputs": [],
   "source": []
  }
 ],
 "metadata": {
  "kernelspec": {
   "display_name": "Python 3.9.13 ('HT_segmentation')",
   "language": "python",
   "name": "python3"
  },
  "language_info": {
   "codemirror_mode": {
    "name": "ipython",
    "version": 3
   },
   "file_extension": ".py",
   "mimetype": "text/x-python",
   "name": "python",
   "nbconvert_exporter": "python",
   "pygments_lexer": "ipython3",
   "version": "3.9.13"
  },
  "orig_nbformat": 4,
  "vscode": {
   "interpreter": {
    "hash": "097252c3f2fdbc8ab0100e67bc11b1b76e4d74fb9f5f0584a1a2ec7d6aaeed94"
   }
  }
 },
 "nbformat": 4,
 "nbformat_minor": 2
}
